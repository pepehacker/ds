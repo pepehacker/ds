{
 "cells": [
  {
   "cell_type": "markdown",
   "metadata": {},
   "source": [
    "## Игра: Угадай число от 1 до 100"
   ]
  },
  {
   "cell_type": "code",
   "execution_count": 17,
   "metadata": {},
   "outputs": [
    {
     "name": "stdout",
     "output_type": "stream",
     "text": [
      "Число 65 найдено за 5 попыток\n"
     ]
    }
   ],
   "source": [
    "import numpy as np\n",
    "from guess_the_number import guess_the_number\n",
    "\n",
    "number = np.random.randint(1, 101)\n",
    "count = guess_the_number(number)\n",
    "\n",
    "print(\"Число {} найдено за {} попыток\".format(number, count))"
   ]
  }
 ],
 "metadata": {
  "kernelspec": {
   "display_name": "Python 3",
   "language": "python",
   "name": "python3"
  },
  "language_info": {
   "codemirror_mode": {
    "name": "ipython",
    "version": 3
   },
   "file_extension": ".py",
   "mimetype": "text/x-python",
   "name": "python",
   "nbconvert_exporter": "python",
   "pygments_lexer": "ipython3",
   "version": "3.9.6"
  }
 },
 "nbformat": 4,
 "nbformat_minor": 2
}
