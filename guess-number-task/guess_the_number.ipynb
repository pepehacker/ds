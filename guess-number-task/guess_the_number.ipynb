{
 "cells": [
  {
   "cell_type": "markdown",
   "metadata": {},
   "source": [
    "## Игра: Угадай число от 1 до 100"
   ]
  },
  {
   "cell_type": "code",
   "execution_count": 2,
   "metadata": {},
   "outputs": [
    {
     "ename": "ModuleNotFoundError",
     "evalue": "No module named 'numpy'",
     "output_type": "error",
     "traceback": [
      "\u001b[0;31m---------------------------------------------------------------------------\u001b[0m",
      "\u001b[0;31mModuleNotFoundError\u001b[0m                       Traceback (most recent call last)",
      "\u001b[1;32m/Users/ivan/Projects/me/ds/guess-number-task/guess_the_number.ipynb Cell 2\u001b[0m line \u001b[0;36m1\n\u001b[0;32m----> <a href='vscode-notebook-cell:/Users/ivan/Projects/me/ds/guess-number-task/guess_the_number.ipynb#W3sZmlsZQ%3D%3D?line=0'>1</a>\u001b[0m \u001b[39mfrom\u001b[39;00m \u001b[39mguess_the_number\u001b[39;00m \u001b[39mimport\u001b[39;00m guess_the_number\n\u001b[1;32m      <a href='vscode-notebook-cell:/Users/ivan/Projects/me/ds/guess-number-task/guess_the_number.ipynb#W3sZmlsZQ%3D%3D?line=2'>3</a>\u001b[0m \u001b[39mprint\u001b[39m(guess_the_number(\u001b[39m50\u001b[39m))\n\u001b[1;32m      <a href='vscode-notebook-cell:/Users/ivan/Projects/me/ds/guess-number-task/guess_the_number.ipynb#W3sZmlsZQ%3D%3D?line=3'>4</a>\u001b[0m \u001b[39mprint\u001b[39m(guess_the_number(\u001b[39m7\u001b[39m))\n",
      "File \u001b[0;32m~/Projects/me/ds/guess-number-task/guess_the_number.py:3\u001b[0m\n\u001b[1;32m      1\u001b[0m \u001b[39m\"\"\"Игра угадай число\"\"\"\u001b[39;00m\n\u001b[0;32m----> 3\u001b[0m \u001b[39mimport\u001b[39;00m \u001b[39mnumpy\u001b[39;00m \u001b[39mas\u001b[39;00m \u001b[39mnp\u001b[39;00m\n\u001b[1;32m      5\u001b[0m \u001b[39mdef\u001b[39;00m \u001b[39mguess_the_number\u001b[39m(number: \u001b[39mint\u001b[39m \u001b[39m=\u001b[39m \u001b[39m1\u001b[39m) \u001b[39m-\u001b[39m\u001b[39m>\u001b[39m \u001b[39mint\u001b[39m:\n\u001b[1;32m      6\u001b[0m \u001b[39m  \u001b[39m\u001b[39m\"\"\"\u001b[39;00m\n\u001b[1;32m      7\u001b[0m \u001b[39m  Функция принимает загаданное число от 1 до 100 и возвращает число попыток.\u001b[39;00m\n\u001b[1;32m      8\u001b[0m \u001b[39m  \u001b[39;00m\n\u001b[0;32m   (...)\u001b[0m\n\u001b[1;32m     13\u001b[0m \u001b[39m      int: Количество попыток.\u001b[39;00m\n\u001b[1;32m     14\u001b[0m \u001b[39m  \"\"\"\u001b[39;00m\n",
      "\u001b[0;31mModuleNotFoundError\u001b[0m: No module named 'numpy'"
     ]
    }
   ],
   "source": [
    "from guess_the_number import guess_the_number\n",
    "\n",
    "print(guess_the_number(50))\n",
    "print(guess_the_number(7))\n",
    "print(guess_the_number(81))\n",
    "print(guess_the_number(99))\n",
    "print(guess_the_number(33))"
   ]
  }
 ],
 "metadata": {
  "kernelspec": {
   "display_name": "Python 3",
   "language": "python",
   "name": "python3"
  },
  "language_info": {
   "codemirror_mode": {
    "name": "ipython",
    "version": 3
   },
   "file_extension": ".py",
   "mimetype": "text/x-python",
   "name": "python",
   "nbconvert_exporter": "python",
   "pygments_lexer": "ipython3",
   "version": "3.9.6"
  }
 },
 "nbformat": 4,
 "nbformat_minor": 2
}
